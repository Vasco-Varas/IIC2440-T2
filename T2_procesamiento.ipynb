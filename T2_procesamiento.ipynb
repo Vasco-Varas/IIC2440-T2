{
  "nbformat": 4,
  "nbformat_minor": 0,
  "metadata": {
    "colab": {
      "provenance": []
    },
    "kernelspec": {
      "name": "python3",
      "display_name": "Python 3"
    },
    "language_info": {
      "name": "python"
    }
  },
  "cells": [
    {
      "cell_type": "code",
      "execution_count": null,
      "metadata": {
        "colab": {
          "base_uri": "https://localhost:8080/"
        },
        "id": "pmjYyxlJktko",
        "outputId": "11713d96-026b-4662-f740-d4ea5a2a83bb"
      },
      "outputs": [
        {
          "output_type": "stream",
          "name": "stdout",
          "text": [
            "Requirement already satisfied: pyspark in /usr/local/lib/python3.10/dist-packages (3.5.1)\n",
            "Requirement already satisfied: py4j==0.10.9.7 in /usr/local/lib/python3.10/dist-packages (from pyspark) (0.10.9.7)\n"
          ]
        }
      ],
      "source": [
        "!pip install pyspark"
      ]
    },
    {
      "cell_type": "code",
      "source": [
        "from pyspark import SparkContext, SparkConf\n",
        "import random\n",
        "import numpy as np"
      ],
      "metadata": {
        "id": "SS2NYAx7Vgfs"
      },
      "execution_count": null,
      "outputs": []
    },
    {
      "cell_type": "code",
      "source": [
        "from pyspark import SparkContext, SparkConf\n",
        "import random\n",
        "\n",
        "if SparkContext._active_spark_context:\n",
        "    SparkContext._active_spark_context.stop()\n",
        "\n",
        "\n",
        "# Configuración de Spark\n",
        "conf = SparkConf().setAppName(\"TriangleFinding\").setMaster(\"local\")\n",
        "sc = SparkContext(conf=conf)\n",
        "\n",
        "# Ejemplo de aristas del grafo como una lista de tuplas\n",
        "edges = [\n",
        "    (1, '11', 2),\n",
        "    (2, '11', 3),\n",
        "    (3, '11', 1),\n",
        "    (3, '11', 4),\n",
        "    (4, '11', 5),\n",
        "    (5, '11', 3),\n",
        "    # Agrega más aristas según sea necesario\n",
        "]\n",
        "\n",
        "# Crear un RDD a partir de la lista de aristas\n",
        "edges_rdd = sc.parallelize(edges)\n",
        "\n",
        "sc"
      ],
      "metadata": {
        "colab": {
          "base_uri": "https://localhost:8080/",
          "height": 198
        },
        "id": "mecLubDGms4y",
        "outputId": "f488653a-347b-43e5-a90b-7e4940898b64"
      },
      "execution_count": null,
      "outputs": [
        {
          "output_type": "execute_result",
          "data": {
            "text/plain": [
              "<SparkContext master=local appName=TriangleFinding>"
            ],
            "text/html": [
              "\n",
              "        <div>\n",
              "            <p><b>SparkContext</b></p>\n",
              "\n",
              "            <p><a href=\"http://2db9d7b013a4:4040\">Spark UI</a></p>\n",
              "\n",
              "            <dl>\n",
              "              <dt>Version</dt>\n",
              "                <dd><code>v3.5.1</code></dd>\n",
              "              <dt>Master</dt>\n",
              "                <dd><code>local</code></dd>\n",
              "              <dt>AppName</dt>\n",
              "                <dd><code>TriangleFinding</code></dd>\n",
              "            </dl>\n",
              "        </div>\n",
              "        "
            ]
          },
          "metadata": {},
          "execution_count": 95
        }
      ]
    },
    {
      "cell_type": "code",
      "source": [
        "rdd = sc.parallelize([(1,11,2),(2,12,3),(3,13,1)])\n"
      ],
      "metadata": {
        "id": "0sbcPPWCdg5u"
      },
      "execution_count": null,
      "outputs": []
    },
    {
      "cell_type": "markdown",
      "source": [
        "Voy a empezar creando la función de hash. Entre algunas cosas que asumimos está que un nodo no puede tener una arista consigo mismo, entonces el número de nodos tiene que ver con el numero de aristas"
      ],
      "metadata": {
        "id": "WAe2LW0clREs"
      }
    },
    {
      "cell_type": "code",
      "source": [
        "rdd.count()"
      ],
      "metadata": {
        "colab": {
          "base_uri": "https://localhost:8080/"
        },
        "id": "h0e3bxMMlT5z",
        "outputId": "8c6adead-4fc2-419d-f009-f93bb0d02c31"
      },
      "execution_count": null,
      "outputs": [
        {
          "output_type": "execute_result",
          "data": {
            "text/plain": [
              "3"
            ]
          },
          "metadata": {},
          "execution_count": 97
        }
      ]
    },
    {
      "cell_type": "code",
      "source": [
        "def func_obtener_nodos(rdd):\n",
        "  nodos = []\n",
        "  for elemento in rdd.collect():\n",
        "    if elemento[0] not in nodos:\n",
        "      nodos.append(elemento[0])\n",
        "\n",
        "    if elemento[2] not in nodos:\n",
        "      nodos.append(elemento[2])\n",
        "  return nodos\n",
        "func_obtener_nodos(rdd)"
      ],
      "metadata": {
        "colab": {
          "base_uri": "https://localhost:8080/"
        },
        "id": "1He92FA3oQ-X",
        "outputId": "bfd750a5-9db9-4401-a8c7-d9f90b775745"
      },
      "execution_count": null,
      "outputs": [
        {
          "output_type": "execute_result",
          "data": {
            "text/plain": [
              "[1, 2, 3]"
            ]
          },
          "metadata": {},
          "execution_count": 98
        }
      ]
    },
    {
      "cell_type": "markdown",
      "source": [
        "Implementa un programa en PySpark que entregue todos los tri´angulos (como tuplas de tres nodos)\n",
        "en el grafo usando b\n",
        "3\n",
        "reducers, donde b es un par´ametro. Para esta primera parte puedes asumir que\n",
        "tu grafo solo usa una etiqueta de arista (en el grafo de prueba, esa etiqueta corresponde al numero 11)."
      ],
      "metadata": {
        "id": "S5KLDqPYRWv9"
      }
    },
    {
      "cell_type": "code",
      "source": [
        "rdd.map(lambda x: (x[0], x[2], 1)).collect()"
      ],
      "metadata": {
        "colab": {
          "base_uri": "https://localhost:8080/"
        },
        "id": "gNqoWzgRnoVp",
        "outputId": "9c4a1a25-bb03-4042-a4dc-af9cda78f1cb"
      },
      "execution_count": null,
      "outputs": [
        {
          "output_type": "execute_result",
          "data": {
            "text/plain": [
              "[(1, 2, 1), (2, 3, 1), (3, 1, 1)]"
            ]
          },
          "metadata": {},
          "execution_count": 99
        }
      ]
    },
    {
      "cell_type": "code",
      "source": [
        "def hash_node(v, b):\n",
        "  # Hasheamos los nodos, ej b_1 = h(n_1)\n",
        "  return hash(v) % b\n",
        "\n",
        "# Fase de mapeo\n",
        "def map_triangles(arista):\n",
        "  n_1, R, n_2 = arista\n",
        "  b_1 = hash_node(n_1, b)\n",
        "\n",
        "  b_2 = hash_node(n_2, b)\n",
        "\n",
        "  resultado = []\n",
        "  for b_3 in range(b):\n",
        "    resultado.append(((b_1, b_2, b_3), (n_1, R, n_2)))\n",
        "    resultado.append(((b_1, b_3, b_2), (n_1, R, n_2)))\n",
        "    resultado.append(((b_3, b_1, b_2), (n_1, R, n_2)))\n",
        "\n",
        "  return resultado\n",
        "\n",
        "\n",
        "\n",
        "# Fase de Reduce\n",
        "def reduce_triangles(llave, aristas):\n",
        "  triangles = []\n",
        "\n",
        "  aristas_dict = dict()\n",
        "\n",
        "  for arista in aristas:\n",
        "\n",
        "    n_1, R, n_2 = arista\n",
        "    if n_1 not in aristas_dict:\n",
        "      aristas_dict[n_1] = []\n",
        "    aristas_dict[n_1].append((R, n_2))\n",
        "\n",
        "  for n_1 in aristas_dict:\n",
        "    for (R, n_2) in aristas_dict[n_1]:\n",
        "      if n_2 in aristas_dict:\n",
        "        for (s, n_3) in aristas_dict[n_2]:\n",
        "          if n_3 in aristas_dict and any(n_4 == n_1 for (_, n_4) in aristas_dict[n_3]):\n",
        "            triangles.append((n_1, n_2, n_3))\n",
        "  return triangles\n",
        "\n",
        "# Parámetro b\n",
        "b = 2\n",
        "\n",
        "# Fase de Map\n",
        "mapped_rdd = edges_rdd.flatMap(lambda edge: map_triangles(edge))\n",
        "\n",
        "# Particionamos la rdd para que se usen exactamente b^3 reducers\n",
        "\n",
        "partitioned_rdd = mapped_rdd.partitionBy(b**3)\n",
        "\n",
        "grouped_rdd = mapped_rdd.groupByKey()\n",
        "\n",
        "triangles_rdd = grouped_rdd.flatMap(lambda key_value: reduce_triangles(key_value[0], list(key_value[1])))\n",
        "\n",
        "# Acción final para recolectar los resultados\n",
        "triangles = triangles_rdd.collect()\n",
        "\n",
        "# Mostrar los triángulos encontrados\n",
        "print(triangles)\n"
      ],
      "metadata": {
        "colab": {
          "base_uri": "https://localhost:8080/"
        },
        "id": "PNSX5_3ZsqE-",
        "outputId": "a13f1fe7-1c0a-4efb-8f12-74bd8dc2b054"
      },
      "execution_count": null,
      "outputs": [
        {
          "output_type": "stream",
          "name": "stdout",
          "text": [
            "[(1, 2, 3), (2, 3, 1), (3, 1, 2), (3, 4, 5), (4, 5, 3), (5, 3, 4)]\n"
          ]
        }
      ]
    },
    {
      "cell_type": "code",
      "source": [],
      "metadata": {
        "id": "6u5ypbCXu7Gw"
      },
      "execution_count": null,
      "outputs": []
    },
    {
      "cell_type": "markdown",
      "source": [
        "El enunciado no especifica si la matriz de relaciones es un pandas dataframe o una lista de listas, por lo que mi grupo asumió lo segundo"
      ],
      "metadata": {
        "id": "LMqvHqy1RlBr"
      }
    },
    {
      "cell_type": "markdown",
      "source": [
        "Asume ahora que recibes un subgrafo como tres arreglos: un arreglo A con las variables, otro L con los\n",
        "tipos de aristas, y una matriz M de tama˜no |A| × |L| × |A| que tiene un uno en la posicion (x, R, y) si\n",
        "y solo si (x, R, y) es una arista de tu subgrafo."
      ],
      "metadata": {
        "id": "1C4yn5raR90Y"
      }
    },
    {
      "cell_type": "code",
      "source": [
        "A = [0, 1, 2, 3] #Reemplazar por el arreglo de variables\n",
        "L = [\"R\", \"S\", \"T\"] #Reemplazar por el arreglo de tipos de aristas\n",
        "\n",
        "M = \"\" #Reemplazar por la matriz M\n",
        "\n",
        "# Ej de M:\n",
        "M = np.array([\n",
        "    # R  S  T\n",
        "    [[0, 1, 0, 0], [0, 0, 1, 0], [0, 0, 0, 0]], # x = 0\n",
        "    [[0, 0, 0, 0], [0, 1, 0, 0], [0, 0, 1, 0]], # x = 1 # Chequear error (1,1)\n",
        "    [[0, 0, 0, 0], [1, 0, 0, 0], [0, 1, 0, 0]], # x = 2\n",
        "    [[0, 0, 1, 0], [0, 1, 0, 0], [0, 0, 0, 0]]  # x = 3\n",
        "])\n",
        "\n",
        "def matriz_a_aristas(A, L, M):\n",
        "    aristas = []\n",
        "    for x in range(len(M)):\n",
        "        for y in range(len(M[0])):\n",
        "            for r in range(len(M[0][0])):\n",
        "              if M[x][y][r] == 1:\n",
        "                  aristas.append((A[x], L[y], A[r]))\n",
        "    return aristas\n",
        "\n",
        "aristas = matriz_a_aristas(A, L, M)\n",
        "\n",
        "print(\"Aristas: \", aristas)\n",
        "\n",
        "if SparkContext._active_spark_context:\n",
        "    SparkContext._active_spark_context.stop()\n",
        "\n",
        "\n",
        "conf = SparkConf().setAppName(\"Subgrafos\").setMaster(\"local[*]\")\n",
        "sc = SparkContext(conf=conf)\n",
        "\n",
        "aristas_rdd2 = sc.parallelize(aristas)\n",
        "\n",
        "\n",
        "# Ahora al igual que antes buscamos los patrones triangulares en el grafo\n",
        "# Parámetro b\n",
        "b = 2\n",
        "\n",
        "# Fase de Map\n",
        "mapped_rdd = aristas_rdd2.flatMap(lambda edge: map_triangles(edge))\n",
        "\n",
        "# Particionamos la rdd para que se usen exactamente b^3 reducers\n",
        "\n",
        "partitioned_rdd = mapped_rdd.partitionBy(b**3)\n",
        "\n",
        "grouped_rdd = mapped_rdd.groupByKey()\n",
        "\n",
        "triangles_rdd = grouped_rdd.flatMap(lambda key_value: reduce_triangles(key_value[0], list(key_value[1])))\n",
        "\n",
        "# Acción final para recolectar los resultados\n",
        "triangles = triangles_rdd.collect()\n",
        "\n",
        "# Mostrar los triángulos encontrados\n",
        "print(triangles)\n",
        "\n"
      ],
      "metadata": {
        "colab": {
          "base_uri": "https://localhost:8080/"
        },
        "id": "1m4OH14CR-pI",
        "outputId": "b3b3e398-0a7a-416f-b47c-6cd709632411"
      },
      "execution_count": null,
      "outputs": [
        {
          "output_type": "stream",
          "name": "stdout",
          "text": [
            "Aristas:  [(0, 'R', 1), (0, 'S', 2), (1, 'S', 1), (1, 'T', 2), (2, 'S', 0), (2, 'T', 1), (3, 'R', 2), (3, 'S', 1)]\n",
            "[(0, 1, 2), (1, 2, 0), (2, 0, 1), (1, 1, 1), (1, 1, 1), (1, 1, 1), (1, 1, 1), (1, 1, 1), (1, 1, 1), (1, 1, 1), (1, 1, 1), (1, 1, 1), (1, 1, 1), (1, 1, 1), (1, 1, 2), (1, 2, 1), (2, 1, 1), (1, 1, 1)]\n"
          ]
        }
      ]
    }
  ]
}